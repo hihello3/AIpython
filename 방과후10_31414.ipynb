{
  "nbformat": 4,
  "nbformat_minor": 0,
  "metadata": {
    "colab": {
      "name": "방과후10_31414.ipynb",
      "provenance": [],
      "authorship_tag": "ABX9TyNEfVw026kl7sQX82SxqPNy",
      "include_colab_link": true
    },
    "kernelspec": {
      "name": "python3",
      "display_name": "Python 3"
    }
  },
  "cells": [
    {
      "cell_type": "markdown",
      "metadata": {
        "id": "view-in-github",
        "colab_type": "text"
      },
      "source": [
        "<a href=\"https://colab.research.google.com/github/hihello3/AIpython/blob/master/%EB%B0%A9%EA%B3%BC%ED%9B%8410_31414.ipynb\" target=\"_parent\"><img src=\"https://colab.research.google.com/assets/colab-badge.svg\" alt=\"Open In Colab\"/></a>"
      ]
    },
    {
      "cell_type": "markdown",
      "metadata": {
        "id": "Cl846Q0mEHOv",
        "colab_type": "text"
      },
      "source": [
        "# Keras AI"
      ]
    },
    {
      "cell_type": "code",
      "metadata": {
        "id": "OMfgpvaP_3Qr",
        "colab_type": "code",
        "colab": {
          "base_uri": "https://localhost:8080/",
          "height": 35
        },
        "outputId": "c1caa6de-bbdf-4fa4-a428-aa19924d5062"
      },
      "source": [
        "print(\"Hello Github\")"
      ],
      "execution_count": 2,
      "outputs": [
        {
          "output_type": "stream",
          "text": [
            "Hello Github\n"
          ],
          "name": "stdout"
        }
      ]
    }
  ]
}